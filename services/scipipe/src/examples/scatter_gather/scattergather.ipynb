{
 "cells": [
  {
   "cell_type": "markdown",
   "metadata": {},
   "source": [
    "# Calculate GC-content of some DNA with a Scatter/Gather workflow\n",
    "\n",
    "***N.B: See slide 10 and 11 in [these slides](http://www.slideshare.net/SamuelLampa/scipipe-a-lightweight-workflow-library-inspired-by-flowbased-programming), for a graphical description of this workflow!***\n",
    "\n",
    "This workflow or pipeline calculates [GC-content](https://en.wikipedia.org/wiki/GC-content) (percentage of G and C, versus A and T DNA letters), in a piece of Human DNA (from the Y chromosome to be precise).\n",
    "\n",
    "It does this in a parallel manner, by first splitting the input DNA file into splits with 100'000 lines per file (will be around 10 splits), and calculates the GC content on each of these files in parallel, before merging the results of each of the calculations into an average value for the whole chromosome Y sequence.\n",
    "\n",
    "The raw DNA sequence is downloaded as part of the workflow, so you don't need to worry about that.\n",
    "\n",
    "## Requirements\n",
    "\n",
    "- This notebook is supposed to be run with the [GopherNotes](https://github.com/gophergala2016/gophernotes) Jupyter kernel for Go, developed by [Daniel Whitenack](http://www.datadan.io/)."
   ]
  },
  {
   "cell_type": "code",
   "execution_count": 3,
   "metadata": {
    "collapsed": true
   },
   "outputs": [],
   "source": [
    ":import \"fmt\""
   ]
  },
  {
   "cell_type": "code",
   "execution_count": 11,
   "metadata": {
    "collapsed": true
   },
   "outputs": [],
   "source": [
    ":import \"github.com/scipipe/scipipe\""
   ]
  },
  {
   "cell_type": "code",
   "execution_count": 12,
   "metadata": {
    "collapsed": true
   },
   "outputs": [],
   "source": [
    ":import \"github.com/scipipe/scipipe/components\""
   ]
  },
  {
   "cell_type": "code",
   "execution_count": 13,
   "metadata": {
    "collapsed": false
   },
   "outputs": [
    {
     "data": {
      "text/plain": [
       "AUDIT   2016/06/23 01:59:27 FileSplitter      Now processing input file  chry.fa ...\n",
       "AUDIT   2016/06/23 01:59:27 FileSplitter      Created split file chry.fa.split_1\n",
       "AUDIT   2016/06/23 01:59:27 Task:atcount      Executing command: cat chry.fa.split_1 | fold -w 1 | grep '[AT]' | wc -l | awk '{ print $1 }' > chry.fa.split_1.atcnt.tmp\n",
       "AUDIT   2016/06/23 01:59:27 Task:gccount      Executing command: cat chry.fa.split_1 | fold -w 1 | grep '[GC]' | wc -l | awk '{ print $1 }' > chry.fa.split_1.gccnt.tmp\n",
       "AUDIT   2016/06/23 01:59:27 FileSplitter      Created split file chry.fa.split_2\n",
       "AUDIT   2016/06/23 01:59:27 Task:atcount      Executing command: cat chry.fa.split_2 | fold -w 1 | grep '[AT]' | wc -l | awk '{ print $1 }' > chry.fa.split_2.atcnt.tmp\n",
       "AUDIT   2016/06/23 01:59:27 Task:gccount      Executing command: cat chry.fa.split_2 | fold -w 1 | grep '[GC]' | wc -l | awk '{ print $1 }' > chry.fa.split_2.gccnt.tmp\n",
       "AUDIT   2016/06/23 01:59:28 FileSplitter      Created split file chry.fa.split_3\n",
       "AUDIT   2016/06/23 01:59:28 Task:atcount      Executing command: cat chry.fa.split_3 | fold -w 1 | grep '[AT]' | wc -l | awk '{ print $1 }' > chry.fa.split_3.atcnt.tmp\n",
       "AUDIT   2016/06/23 01:59:28 Task:gccount      Executing command: cat chry.fa.split_3 | fold -w 1 | grep '[GC]' | wc -l | awk '{ print $1 }' > chry.fa.split_3.gccnt.tmp\n",
       "AUDIT   2016/06/23 01:59:28 FileSplitter      Created split file chry.fa.split_4\n",
       "AUDIT   2016/06/23 01:59:28 Task:atcount      Executing command: cat chry.fa.split_4 | fold -w 1 | grep '[AT]' | wc -l | awk '{ print $1 }' > chry.fa.split_4.atcnt.tmp\n",
       "AUDIT   2016/06/23 01:59:28 Task:gccount      Executing command: cat chry.fa.split_4 | fold -w 1 | grep '[GC]' | wc -l | awk '{ print $1 }' > chry.fa.split_4.gccnt.tmp\n",
       "AUDIT   2016/06/23 01:59:29 FileSplitter      Created split file chry.fa.split_5\n",
       "AUDIT   2016/06/23 01:59:29 Task:atcount      Executing command: cat chry.fa.split_5 | fold -w 1 | grep '[AT]' | wc -l | awk '{ print $1 }' > chry.fa.split_5.atcnt.tmp\n",
       "AUDIT   2016/06/23 01:59:29 Task:gccount      Executing command: cat chry.fa.split_5 | fold -w 1 | grep '[GC]' | wc -l | awk '{ print $1 }' > chry.fa.split_5.gccnt.tmp\n",
       "AUDIT   2016/06/23 01:59:29 FileSplitter      Created split file chry.fa.split_6\n",
       "AUDIT   2016/06/23 01:59:29 Task:atcount      Executing command: cat chry.fa.split_6 | fold -w 1 | grep '[AT]' | wc -l | awk '{ print $1 }' > chry.fa.split_6.atcnt.tmp\n",
       "AUDIT   2016/06/23 01:59:29 Task:gccount      Executing command: cat chry.fa.split_6 | fold -w 1 | grep '[GC]' | wc -l | awk '{ print $1 }' > chry.fa.split_6.gccnt.tmp\n",
       "AUDIT   2016/06/23 01:59:30 FileSplitter      Created split file chry.fa.split_7\n",
       "AUDIT   2016/06/23 01:59:30 Task:atcount      Executing command: cat chry.fa.split_7 | fold -w 1 | grep '[AT]' | wc -l | awk '{ print $1 }' > chry.fa.split_7.atcnt.tmp\n",
       "AUDIT   2016/06/23 01:59:30 Task:gccount      Executing command: cat chry.fa.split_7 | fold -w 1 | grep '[GC]' | wc -l | awk '{ print $1 }' > chry.fa.split_7.gccnt.tmp\n",
       "AUDIT   2016/06/23 01:59:30 FileSplitter      Created split file chry.fa.split_8\n",
       "AUDIT   2016/06/23 01:59:30 Task:atcount      Executing command: cat chry.fa.split_8 | fold -w 1 | grep '[AT]' | wc -l | awk '{ print $1 }' > chry.fa.split_8.atcnt.tmp\n",
       "AUDIT   2016/06/23 01:59:30 Task:gccount      Executing command: cat chry.fa.split_8 | fold -w 1 | grep '[GC]' | wc -l | awk '{ print $1 }' > chry.fa.split_8.gccnt.tmp\n",
       "AUDIT   2016/06/23 01:59:31 FileSplitter      Created split file chry.fa.split_9\n",
       "AUDIT   2016/06/23 01:59:31 Task:gccount      Executing command: cat chry.fa.split_9 | fold -w 1 | grep '[GC]' | wc -l | awk '{ print $1 }' > chry.fa.split_9.gccnt.tmp\n",
       "AUDIT   2016/06/23 01:59:31 Task:atcount      Executing command: cat chry.fa.split_9 | fold -w 1 | grep '[AT]' | wc -l | awk '{ print $1 }' > chry.fa.split_9.atcnt.tmp\n",
       "AUDIT   2016/06/23 01:59:31 FileSplitter      Created split file chry.fa.split_10\n",
       "AUDIT   2016/06/23 01:59:31 Task:atcount      Executing command: cat chry.fa.split_10 | fold -w 1 | grep '[AT]' | wc -l | awk '{ print $1 }' > chry.fa.split_10.atcnt.tmp\n",
       "AUDIT   2016/06/23 01:59:31 Task:gccount      Executing command: cat chry.fa.split_10 | fold -w 1 | grep '[GC]' | wc -l | awk '{ print $1 }' > chry.fa.split_10.gccnt.tmp\n",
       "AUDIT   2016/06/23 01:59:31 Task:atsum        Executing command: awk '{ SUM += $1 } END { print SUM }' atcounts.txt > atcounts.txt.sum.tmp\n",
       "AUDIT   2016/06/23 01:59:31 Task:gcsum        Executing command: awk '{ SUM += $1 } END { print SUM }' gccounts.txt > gccounts.txt.sum.tmp\n",
       "AUDIT   2016/06/23 01:59:31 Task:gcratio      Executing command: gc=$(cat gccounts.txt.sum); at=$(cat atcounts.txt.sum); calc \"$gc/($gc+$at)\" > gcratio.txt.tmp\n"
      ]
     },
     "execution_count": 13,
     "metadata": {},
     "output_type": "execute_result"
    }
   ],
   "source": [
    "// === INITIALIZE TASKS =======================================================================\n",
    "\n",
    "// Download a zipped Chromosome Y fasta file\n",
    "fastaURL := \"ftp://ftp.ensembl.org/pub/release-84/fasta/homo_sapiens/dna/Homo_sapiens.GRCh38.dna.chromosome.Y.fa.gz\"\n",
    "wget := scipipe.NewProc(\"wget\", \"wget \"+fastaURL+\" -O {o:chry_zipped}\")\n",
    "wget.SetPathStatic(\"chry_zipped\", \"chry.fa.gz\")\n",
    "\n",
    "// Ungzip the fasta file\n",
    "unzip := scipipe.NewProc(\"ungzip\", \"gunzip -c {i:gzipped} > {o:ungzipped}\")\n",
    "unzip.SetPathReplace(\"gzipped\", \"ungzipped\", \".gz\", \"\")\n",
    "\n",
    "// Split the fasta file in to parts with 100000 lines in each\n",
    "linesPerSplit := 100000\n",
    "scipipelit := components.NewFileSplitter(linesPerSplit)\n",
    "\n",
    "// Create a 2-way multiplexer that can be used to provide the same\n",
    "// file target to two downstream processes\n",
    "dupl := components.NewFanOut()\n",
    "\n",
    "// Count GC & AT characters in the fasta file\n",
    "charCountCommand := \"cat {i:infile} | fold -w 1 | grep '[%s]' | wc -l | awk '{ print $1 }' > {o:%s}\"\n",
    "gccnt := scipipe.NewProc(\"gccount\", fmt.Sprintf(charCountCommand, \"GC\", \"gccount\"))\n",
    "gccnt.SetPathExtend(\"infile\", \"gccount\", \".gccnt\")\n",
    "atcnt := scipipe.NewProc(\"atcount\", fmt.Sprintf(charCountCommand, \"AT\", \"atcount\"))\n",
    "atcnt.SetPathExtend(\"infile\", \"atcount\", \".atcnt\")\n",
    "\n",
    "// Concatenate GC & AT counts\n",
    "gccat := components.NewConcatenator(\"gccounts.txt\")\n",
    "atcat := components.NewConcatenator(\"atcounts.txt\")\n",
    "\n",
    "// Sum up the GC & AT counts on the concatenated file\n",
    "sumCommand := \"awk '{ SUM += $1 } END { print SUM }' {i:in} > {o:sum}\"\n",
    "gcsum := scipipe.NewProc(\"gcsum\", sumCommand)\n",
    "gcsum.SetPathExtend(\"in\", \"sum\", \".sum\")\n",
    "atsum := scipipe.NewProc(\"atsum\", sumCommand)\n",
    "atsum.SetPathExtend(\"in\", \"sum\", \".sum\")\n",
    "\n",
    "// Finally, calculate the ratio between GC chars, vs. GC+AT chars\n",
    "gcrat := scipipe.NewProc(\"gcratio\", \"gc=$(cat {i:gcsum}); at=$(cat {i:atsum}); calc \\\"$gc/($gc+$at)\\\" > {o:gcratio}\")\n",
    "gcrat.SetPathStatic(\"gcratio\", \"gcratio.txt\")\n",
    "\n",
    "// A sink, to drive the network\n",
    "asink := scipipe.NewSink()\n",
    "\n",
    "// === CONNECT DEPENDENCIES ===================================================================\n",
    "\n",
    "unzip.In[\"gzipped\"].Connect(wget.Out[\"chry_zipped\"])\n",
    "scipipelit.InFile.Connect(unzip.Out[\"ungzipped\"])\n",
    "dupl.InFile.Connect(scipipelit.OutSplitFile)\n",
    "gccnt.In[\"infile\"].Connect(dupl.GetOutPort(\"gccnt\"))\n",
    "atcnt.In[\"infile\"].Connect(dupl.GetOutPort(\"atcnt\"))\n",
    "gccat.In.Connect(gccnt.Out[\"gccount\"])\n",
    "atcat.In.Connect(atcnt.Out[\"atcount\"])\n",
    "gcsum.In[\"in\"].Connect(gccat.Out)\n",
    "atsum.In[\"in\"].Connect(atcat.Out)\n",
    "gcrat.In[\"gcsum\"].Connect(gcsum.Out[\"sum\"])\n",
    "gcrat.In[\"atsum\"].Connect(atsum.Out[\"sum\"])\n",
    "\n",
    "asink.Connect(gcrat.Out[\"gcratio\"])\n",
    "\n",
    "// === RUN PIPELINE ===========================================================================\n",
    "\n",
    "piperunner := scipipe.NewPipelineRunner()\n",
    "piperunner.AddProcesses(wget, unzip, scipipelit, dupl, gccnt, atcnt, gccat, atcat, gcsum, atsum, gcrat, asink)\n",
    "piperunner.Run()"
   ]
  }
 ],
 "metadata": {
  "kernelspec": {
   "display_name": "Golang",
   "language": "go",
   "name": "gophernotes"
  },
  "language_info": {
   "name": "go"
  }
 },
 "nbformat": 4,
 "nbformat_minor": 0
}
